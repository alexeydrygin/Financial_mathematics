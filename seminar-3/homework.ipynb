{
 "cells": [
  {
   "cell_type": "markdown",
   "metadata": {},
   "source": [
    "### Задача 1. Аналитик собрал статистику за 36 прошедших месяцев, согласно которой вложение в акцию компании АВС позволило за месяц заработать 15% в 1 случае из 36 проанализированных месяцев, 10% - в 2 случаях, 5% - в 3 случаях, 0% в 23 случаях, потерять 5% в 6 случаях, и потерять 10% в оставшихся случаях. Определить ожидаемое значение доходности инвестиции.\n",
    "\n",
    "Для решения задачи посчитаем ожидаемую доходность инвестиции, используя формулу:\n",
    "\n",
    "Ожидаемая доходность = (Доходность1 * Вероятность1) + (Доходность2 * Вероятность2) + ... + (Доходностьn * Вероятностьn)\n",
    "\n",
    "Где:\n",
    "\n",
    "Доходность1, Доходность2, ..., Доходностьn - возможные доходности инвестиции.\n",
    "Вероятность1, Вероятность2, ..., Вероятностьn - вероятности получения соответствующих доходностей.\n",
    "Применяя эту формулу к данным, получим:\n",
    "\n",
    "Ожидаемая доходность = (15% * 1/36) + (10% * 2/36) + (5% * 3/36) + (0% * 23/36) + (-5% * 6/36) + (-10% * 1/36)\n",
    "\n",
    "Ожидаемая доходность = (0.4167) + (0.2778) + (0.1389) + (0) + (-0.0833) + (-0.0278)\n",
    "\n",
    "Ожидаемая доходность = 0.2777\n",
    "\n",
    "**Таким образом, ожидаемая доходность инвестиции составляет 0.2777 или 27.77%.**\n",
    "\n",
    "---"
   ]
  },
  {
   "cell_type": "markdown",
   "metadata": {},
   "source": [
    "### Задача 2. Инвестиционный фонд за 7 предыдущих лет заработал следующие годовые доходности: +5%; -2%; +12%; +7%; -4%; +11%; +9%. Если предположить, что в среднем фонд будет зарабатывать такую же доходность, как и по итогам прошедших 7 лет (в смысле геометрической доходности), и вложить $100 тыс. в этот фонд, то какой ожидаемый результат будет через 5 лет?\n",
    "\n",
    "Для решения данной задачи, нам необходимо использовать геометрическую среднюю доходность для расчета ожидаемого результата через 5 лет.  \n",
    "В данном случае, мы имеем следующие годовые доходности фонда за 7 предыдущих лет: +5%, -2%, +12%, +7%, -4%, +11%, +9%.  \n",
    "Для расчета геометрической средней доходности, нужно умножить все годовые доходности и взять корень степени, равный обратному значению количества периодов (в данном случае 7 лет).  \n",
    "Применяя эту формулу к данным, получим:\n",
    "\n",
    "Геометрическая средняя доходность = ((1 + 0.05) * (1 - 0.02) * (1 + 0.12) * (1 + 0.07) * (1 - 0.04) * (1 + 0.11) * (1 + 0.09))^(1/7) - 1  \n",
    "Геометрическая средняя доходность = 0.0526  \n",
    "Таким образом, геометрическая средняя доходность фонда равна 0.0526 или 5.26%.\n",
    "\n",
    "Для расчета ожидаемого результата через 5 лет, мы можем использовать формулу для расчета будущей стоимости инвестиции:  \n",
    "$$\n",
    "Будущая стоимость = Начальная стоимость * (1 + Геометрическая средняя доходность)^{(Количество лет)}\n",
    "$$\n",
    "\n",
    "В данном случае, начальная стоимость равна $100 тыс., количество лет равно 5, а геометрическая средняя доходность равна 0.0526.\n",
    "\n",
    "Ожидаемый результат через 5 лет = $100,000 * (1 + 0.0526)^5  \n",
    "Ожидаемый результат через 5 лет = $129,216\n",
    "\n",
    "**Таким образом, ожидаемый результат через 5 лет составляет $129,216.**\n",
    "\n",
    "---"
   ]
  },
  {
   "cell_type": "markdown",
   "metadata": {},
   "source": [
    "### Задача 3. В инвестиционном анализе есть т.н. показатель Шарпа, который характеризует эффективность инвестиции в фонд. Он рассчитывается как отношение средней доходности к риску (волатильности). Рассчитайте этот коэффициент для условий задачи 2.\n",
    "\n",
    "Показатель Шарпа (Sharpe ratio) используется для измерения эффективности инвестиции в сравнении с инвестицией без риска. Он равен отношению средней доходности к стандартной ошибке доходности.\n",
    "\n",
    "Средняя доходность — это просто среднее значение всех доходностей, полученных в прошлом. Стандартная ошибка доходности — это стандартное отклонение доходности.\n",
    "\n",
    "В данном случае, у нас есть следующие годовые доходности фонда за 7 предыдущих лет: +5%, -2%, +12%, +7%, -4%, +11%, +9%.\n",
    "\n",
    "Средняя доходность равна: (5% + (-2%) + 12% + 7% + (-4%) + 11% + 9%) / 7 = 4.57%\n",
    "\n",
    "Чтобы найти стандартную ошибку доходности, мы должны вычислить стандартное отклонение всех годовых доходностей от средней доходности. Это можно сделать следующим образом:\n",
    "\n",
    "Вычислите разницу между каждой годовой доходностью и средней доходностью.\n",
    "Вычислите квадрат каждой разницы и найдите среднее значение этих квадратов.\n",
    "Найдите квадратный корень из среднего значения.\n",
    "Применение этих шагов к данным, мы получим:\n",
    "\n",
    "Стандартная ошибка доходности = √((5% - 4.57%)² + (-2% - 4.57%)² + (12% - 4.57%)² + (7% - 4.57%)² + (-4% - 4.57%)² + (11% - 4.57%)² + (9% - 4.57%)²) / 7 = 2.2079\n",
    "\n",
    "Теперь, мы можем рассчитать показатель Шарпа, используя следующую формулу:\n",
    "\n",
    "Показатель Шарпа = (Средняя доходность - Доходность без риска) / Стандартная ошибка доходности\n",
    "\n",
    "Это может быть интерпретировано как средняя доходность в процентах, которую мы ожидаем получить, если мы инвестируем на риск, а не в инвестицию без риска.\n",
    "\n",
    "Показатель Шарпа = (4.57% - 0%) / 2.2079 = 2.07\n",
    "\n",
    "Поэтому, показатель Шарпа для данного инвестиционного фонда составляет 2.07. Это означает, что мы должны ожидать примерно 2.07% годовых доходности в дополнение к инвестиции без риска, если мы инвестируем в этот фонд.\n",
    "\n",
    "---"
   ]
  },
  {
   "cell_type": "markdown",
   "metadata": {},
   "source": [
    "### Задача 4. Компания по страхованию автомобилей разделяет водителей по трем категориям в зависимости от опыта: категория 1 (стаж вождения более 10 лет), категория 2 (стаж более 2 лет, но меньше 10), категория 3 (стаж менее 2 лет). Для данной компании среди 100% застрахованных 30% принадлежат категории 1, 50% – категории 2, 20% – категории 3. Вероятность того, что в течение года водитель категории 1 попадет хотя бы в одно ДТП равна 1%; для водителя категории 2 - 3%, а для водителя категории 3 – 10%. Клиент компании застраховал автомобиль и попал в ДТП. Какова вероятность того, что он относится к категории 1?\n",
    "\n",
    "Для решения этой задачи можно использовать теорему Байеса. Теорема Байеса гласит, что вероятность события A, учитывая, что событие B уже произошло, равна отношению вероятности события B, учитывая, что событие A произошло, к вероятности события B.\n",
    "\n",
    "В данном случае, мы хотим найти вероятность того, что водитель относится к категории 1, учитывая, что он попал в ДТП. Для этого мы можем использовать следующую формулу:\n",
    "\n",
    "$$\n",
    "P(A|B) = \\frac{P(B|A) * P(A)}{P(B)}\n",
    "$$\n",
    "\n",
    "где:\n",
    "\n",
    "P(A|B) - вероятность того, что водитель относится к категории 1, учитывая, что он попал в ДТП.  \n",
    "P(B|A) - вероятность того, что водитель попал в ДТП, учитывая, что он относится к категории 1.  \n",
    "P(A) - вероятность того, что водитель относится к категории 1.  \n",
    "P(B) - вероятность того, что водитель попал в ДТП.  \n",
    "\n",
    "Используя данные из задачи, мы можем найти все необходимые вероятности:  \n",
    "\n",
    "P(A) = 0.3 (30% водителей категории 1)  \n",
    "P(B|A) = 0.01 (1% вероятность ДТП у водителя категории 1)  \n",
    "P(B) = P(B|A) * P(A) + P(B|A') * P(A') = 0.01 * 0.3 + 0.03 * 0.5 + 0.1 * 0.2 = 0.038  \n",
    "\n",
    "Теперь мы можем найти P(A|B):  \n",
    "\n",
    "P(A|B) = P(B|A) * P(A) / P(B) = 0.01 * 0.3 / 0.038 = 0.079\n",
    "\n",
    "**Таким образом, вероятность того, что водитель, попавший в ДТП, относится к категории 1, составляет 0.079 или 7.9%.**\n",
    "\n",
    "---"
   ]
  },
  {
   "cell_type": "markdown",
   "metadata": {},
   "source": [
    "### Задача 5. Аналитик собрал статистические данные между ценой акции перерабатывающей компании и ценой ресурса, который эта компания перерабатывает:\n",
    "\n",
    "Месяц 1 2 3 4 5 6 7 8 9 10 11 12  \n",
    "Цена акции, $ 12,1 15,2 15,3 15,7 15,2 16,1 16,5 17,1 17,2 17,0 16,8 16,9  \n",
    "Цена ресурса, $ 115,0 119,0 121,0 130,0 131,0 150,0 155,0 172,0 174,0 168,0 161,0 159,0  \n",
    "И предположил, что цена акции зависит от цены ресурса с задержкой на 1 месяц. Определить уравнение регрессии для этого предположения и сделать на его основе прогноз цены акции на 13 месяц."
   ]
  },
  {
   "cell_type": "markdown",
   "metadata": {},
   "source": [
    "Для решения этой задачи, мы можем использовать метод линейной регрессии. В данном случае, мы хотим найти уравнение линейной регрессии, которое описывает зависимость цены акции от цены ресурса с задержкой на 1 месяц.\n",
    "\n",
    "Сначала, мы можем использовать библиотеку numpy для вычисления среднего значения обеих сторон уравнения. Затем, мы можем использовать метод numpy.polyfit для вычисления коэффициентов линейной регрессии."
   ]
  },
  {
   "cell_type": "code",
   "execution_count": 23,
   "metadata": {},
   "outputs": [
    {
     "name": "stdout",
     "output_type": "stream",
     "text": [
      "Уравнение линейной регрессии: y = 0.05541322116533634x + 7.820816404569558\n",
      "Прогноз цены акции на 13 месяц: 24.466188279718935\n"
     ]
    },
    {
     "data": {
      "image/png": "[encoded data removed]",
      "text/plain": [
       "<Figure size 640x480 with 1 Axes>"
      ]
     },
     "metadata": {},
     "output_type": "display_data"
    }
   ],
   "source": [
    "import numpy as np\n",
    "import matplotlib.pyplot as plt\n",
    "\n",
    "# Данные о ценах акций и цен ресурса\n",
    "prices = np.array([12.1, 15.2, 15.3, 15.7, 15.2, 16.1,\n",
    "                  16.5, 17.1, 17.2, 17.0, 16.8, 16.9])\n",
    "resources = np.array([115.0, 119.0, 121.0, 130.0, 131.0,\n",
    "                     150.0, 155.0, 172.0, 174.0, 168.0, 161.0, 159.0])\n",
    "\n",
    "# Номера месяцев\n",
    "months = np.arange(1, len(prices) + 1)\n",
    "\n",
    "# Вычисление среднего значения для обеих сторон уравнения\n",
    "mean_prices = np.mean(prices)\n",
    "mean_resources = np.mean(resources)\n",
    "\n",
    "# Вычисление коэффициентов линейной регрессии\n",
    "coefficients = np.polyfit(resources, prices, 1)\n",
    "\n",
    "# Вывод уравнения линейной регрессии\n",
    "print(\n",
    "    f\"Уравнение линейной регрессии: y = {coefficients[0]}x + {coefficients[1]}\")\n",
    "\n",
    "# Вывод прогноза цены акции на 13 месяц\n",
    "print(\n",
    "    f\"Прогноз цены акции на 13 месяц: {mean_prices + coefficients[0]*13 + coefficients[1]}\")\n",
    "\n",
    "# Создание последовательности значений x для построения линии регрессии\n",
    "x_values = np.linspace(resources.min(), resources.max(), 100)\n",
    "\n",
    "# Вычисление значений y для линии регрессии\n",
    "y_values = coefficients[0]*x_values + coefficients[1]\n",
    "\n",
    "# Построение графика с точками данных и линией регрессии\n",
    "plt.scatter(resources, prices, color='blue')\n",
    "plt.plot(x_values, y_values, color='red')\n",
    "plt.xlabel('Цена ресурса')\n",
    "plt.ylabel('Цена акции')\n",
    "plt.title('Цена акции и цена ресурса')\n",
    "plt.grid(True)\n",
    "plt.show()\n",
    "\n"
   ]
  }
 ],
 "metadata": {
  "kernelspec": {
   "display_name": "Python 3",
   "language": "python",
   "name": "python3"
  },
  "language_info": {
   "codemirror_mode": {
    "name": "ipython",
    "version": 3
   },
   "file_extension": ".py",
   "mimetype": "text/x-python",
   "name": "python",
   "nbconvert_exporter": "python",
   "pygments_lexer": "ipython3",
   "version": "3.11.2"
  },
  "orig_nbformat": 4
 },
 "nbformat": 4,
 "nbformat_minor": 2
}
